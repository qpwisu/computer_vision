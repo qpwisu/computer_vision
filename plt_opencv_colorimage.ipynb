{
  "nbformat": 4,
  "nbformat_minor": 0,
  "metadata": {
    "colab": {
      "name": "plt_opencv_colorimage.ipynb",
      "provenance": [],
      "collapsed_sections": [],
      "toc_visible": true,
      "include_colab_link": true
    },
    "kernelspec": {
      "name": "python3",
      "display_name": "Python 3"
    }
  },
  "cells": [
    {
      "cell_type": "markdown",
      "metadata": {
        "id": "view-in-github",
        "colab_type": "text"
      },
      "source": [
        "<a href=\"https://colab.research.google.com/github/qpwisu/computer_vision/blob/master/plt_opencv_colorimage.ipynb\" target=\"_parent\"><img src=\"https://colab.research.google.com/assets/colab-badge.svg\" alt=\"Open In Colab\"/></a>"
      ]
    },
    {
      "cell_type": "markdown",
      "metadata": {
        "id": "ClPit8PddNZJ"
      },
      "source": [
        "#Computer Vision 실습 1\n",
        "주어진 데이터로부터 영상을 읽고 저장할 수 있도록 실습을 진행하도록 함\n",
        "*   최근 딥러닝을 비롯한 인공지능에서 많이 활용되는 툴을 이용하기 위하여 numpy 및 matplotlib를 이용한 영상 입출력 예제\n",
        "* 간단한 opencv lib를 이용한 영상 입출력 예제\n",
        "\n",
        "\n",
        "\n"
      ]
    },
    {
      "cell_type": "code",
      "metadata": {
        "id": "Jr1JkbR89pd2"
      },
      "source": [
        "import cv2\n",
        "import matplotlib.pyplot as plt\n",
        "import numpy as np"
      ],
      "execution_count": null,
      "outputs": []
    },
    {
      "cell_type": "markdown",
      "metadata": {
        "id": "dbBqG5DOdLTc"
      },
      "source": [
        "실습에서는 주로 MNIST(Modified National Institute of Stardard and Technology)의 필기체 숫자 데이터와 CIFAR를 주로 활용하여 실습 진행\n",
        "\n",
        "- 흑백 영상(gray image)을 읽고 가시화하기 위한 과정에 대한 알오보도록 함\n",
        "\n",
        "keras로부터 mnist 숫자 데이터를 읽어 오기"
      ]
    },
    {
      "cell_type": "code",
      "metadata": {
        "id": "YovyPSDzegPs",
        "colab": {
          "base_uri": "https://localhost:8080/",
          "height": 72
        },
        "outputId": "4595ca8b-09b9-48f6-c382-1b73aef7213c"
      },
      "source": [
        "from keras.datasets import mnist\n",
        "(x_train, y_train), (x_test,y_test) = mnist.load_data()"
      ],
      "execution_count": null,
      "outputs": [
        {
          "output_type": "stream",
          "text": [
            "Downloading data from https://storage.googleapis.com/tensorflow/tf-keras-datasets/mnist.npz\n",
            "11493376/11490434 [==============================] - 8s 1us/step\n"
          ],
          "name": "stdout"
        }
      ]
    },
    {
      "cell_type": "code",
      "metadata": {
        "id": "2K6Fyr8ge0RS",
        "colab": {
          "base_uri": "https://localhost:8080/",
          "height": 53
        },
        "outputId": "8430b62d-9dea-473d-def9-dd937a78a761"
      },
      "source": [
        "print('Number of original training examples:', len(x_train))\n",
        "print('Number of original test examples:', len(x_test))"
      ],
      "execution_count": null,
      "outputs": [
        {
          "output_type": "stream",
          "text": [
            "Number of original training examples: 60000\n",
            "Number of original test examples: 10000\n"
          ],
          "name": "stdout"
        }
      ]
    },
    {
      "cell_type": "markdown",
      "metadata": {
        "id": "1Gn8GK0RmEw4"
      },
      "source": [
        "읽어온 영상중에 하나를 test_image에 저장\n",
        "영상 사이즈 확인 (앞의 값 세로축, 뒤의 값 가로축)"
      ]
    },
    {
      "cell_type": "code",
      "metadata": {
        "id": "CDdtK0NRh8v8",
        "colab": {
          "base_uri": "https://localhost:8080/",
          "height": 1000
        },
        "outputId": "896fd0e1-b115-4ee5-9585-b02ecaba3a44"
      },
      "source": [
        "test_image = x_train[0]  #첫번째 영상 불러옴 \n",
        "print(test_image)\n",
        "test_image.shape #영상사이즈 0은 흑색 255는 흰색 "
      ],
      "execution_count": null,
      "outputs": [
        {
          "output_type": "stream",
          "text": [
            "[[  0   0   0   0   0   0   0   0   0   0   0   0   0   0   0   0   0   0\n",
            "    0   0   0   0   0   0   0   0   0   0]\n",
            " [  0   0   0   0   0   0   0   0   0   0   0   0   0   0   0   0   0   0\n",
            "    0   0   0   0   0   0   0   0   0   0]\n",
            " [  0   0   0   0   0   0   0   0   0   0   0   0   0   0   0   0   0   0\n",
            "    0   0   0   0   0   0   0   0   0   0]\n",
            " [  0   0   0   0   0   0   0   0   0   0   0   0   0   0   0   0   0   0\n",
            "    0   0   0   0   0   0   0   0   0   0]\n",
            " [  0   0   0   0   0   0   0   0   0   0   0   0   0   0   0   0   0   0\n",
            "    0   0   0   0   0   0   0   0   0   0]\n",
            " [  0   0   0   0   0   0   0   0   0   0   0   0   3  18  18  18 126 136\n",
            "  175  26 166 255 247 127   0   0   0   0]\n",
            " [  0   0   0   0   0   0   0   0  30  36  94 154 170 253 253 253 253 253\n",
            "  225 172 253 242 195  64   0   0   0   0]\n",
            " [  0   0   0   0   0   0   0  49 238 253 253 253 253 253 253 253 253 251\n",
            "   93  82  82  56  39   0   0   0   0   0]\n",
            " [  0   0   0   0   0   0   0  18 219 253 253 253 253 253 198 182 247 241\n",
            "    0   0   0   0   0   0   0   0   0   0]\n",
            " [  0   0   0   0   0   0   0   0  80 156 107 253 253 205  11   0  43 154\n",
            "    0   0   0   0   0   0   0   0   0   0]\n",
            " [  0   0   0   0   0   0   0   0   0  14   1 154 253  90   0   0   0   0\n",
            "    0   0   0   0   0   0   0   0   0   0]\n",
            " [  0   0   0   0   0   0   0   0   0   0   0 139 253 190   2   0   0   0\n",
            "    0   0   0   0   0   0   0   0   0   0]\n",
            " [  0   0   0   0   0   0   0   0   0   0   0  11 190 253  70   0   0   0\n",
            "    0   0   0   0   0   0   0   0   0   0]\n",
            " [  0   0   0   0   0   0   0   0   0   0   0   0  35 241 225 160 108   1\n",
            "    0   0   0   0   0   0   0   0   0   0]\n",
            " [  0   0   0   0   0   0   0   0   0   0   0   0   0  81 240 253 253 119\n",
            "   25   0   0   0   0   0   0   0   0   0]\n",
            " [  0   0   0   0   0   0   0   0   0   0   0   0   0   0  45 186 253 253\n",
            "  150  27   0   0   0   0   0   0   0   0]\n",
            " [  0   0   0   0   0   0   0   0   0   0   0   0   0   0   0  16  93 252\n",
            "  253 187   0   0   0   0   0   0   0   0]\n",
            " [  0   0   0   0   0   0   0   0   0   0   0   0   0   0   0   0   0 249\n",
            "  253 249  64   0   0   0   0   0   0   0]\n",
            " [  0   0   0   0   0   0   0   0   0   0   0   0   0   0  46 130 183 253\n",
            "  253 207   2   0   0   0   0   0   0   0]\n",
            " [  0   0   0   0   0   0   0   0   0   0   0   0  39 148 229 253 253 253\n",
            "  250 182   0   0   0   0   0   0   0   0]\n",
            " [  0   0   0   0   0   0   0   0   0   0  24 114 221 253 253 253 253 201\n",
            "   78   0   0   0   0   0   0   0   0   0]\n",
            " [  0   0   0   0   0   0   0   0  23  66 213 253 253 253 253 198  81   2\n",
            "    0   0   0   0   0   0   0   0   0   0]\n",
            " [  0   0   0   0   0   0  18 171 219 253 253 253 253 195  80   9   0   0\n",
            "    0   0   0   0   0   0   0   0   0   0]\n",
            " [  0   0   0   0  55 172 226 253 253 253 253 244 133  11   0   0   0   0\n",
            "    0   0   0   0   0   0   0   0   0   0]\n",
            " [  0   0   0   0 136 253 253 253 212 135 132  16   0   0   0   0   0   0\n",
            "    0   0   0   0   0   0   0   0   0   0]\n",
            " [  0   0   0   0   0   0   0   0   0   0   0   0   0   0   0   0   0   0\n",
            "    0   0   0   0   0   0   0   0   0   0]\n",
            " [  0   0   0   0   0   0   0   0   0   0   0   0   0   0   0   0   0   0\n",
            "    0   0   0   0   0   0   0   0   0   0]\n",
            " [  0   0   0   0   0   0   0   0   0   0   0   0   0   0   0   0   0   0\n",
            "    0   0   0   0   0   0   0   0   0   0]]\n"
          ],
          "name": "stdout"
        },
        {
          "output_type": "execute_result",
          "data": {
            "text/plain": [
              "(28, 28)"
            ]
          },
          "metadata": {
            "tags": []
          },
          "execution_count": 5
        }
      ]
    },
    {
      "cell_type": "markdown",
      "metadata": {
        "id": "rfmaYVt_hsn1"
      },
      "source": [
        "matplot lib를 이용한 영상 가시화"
      ]
    },
    {
      "cell_type": "code",
      "metadata": {
        "id": "6Acv2vC_fg8o",
        "colab": {
          "base_uri": "https://localhost:8080/",
          "height": 299
        },
        "outputId": "ed7ed698-cfad-4ba8-a292-5956114c16f6"
      },
      "source": [
        "print(y_train[0])\n",
        "plt.imshow(test_image)\n"
      ],
      "execution_count": null,
      "outputs": [
        {
          "output_type": "stream",
          "text": [
            "5\n"
          ],
          "name": "stdout"
        },
        {
          "output_type": "execute_result",
          "data": {
            "text/plain": [
              "<matplotlib.image.AxesImage at 0x7fdd0532b860>"
            ]
          },
          "metadata": {
            "tags": []
          },
          "execution_count": 5
        },
        {
          "output_type": "display_data",
          "data": {
            "image/png": "[encoded data removed]",
            "text/plain": [
              "<Figure size 432x288 with 1 Axes>"
            ]
          },
          "metadata": {
            "tags": [],
            "needs_background": "light"
          }
        }
      ]
    },
    {
      "cell_type": "code",
      "metadata": {
        "id": "asxTtDkZiSVL",
        "colab": {
          "base_uri": "https://localhost:8080/",
          "height": 265
        },
        "outputId": "f0121486-3213-4af5-ffca-def9cc0705b7"
      },
      "source": [
        "plt.imshow(test_image, cmap='gray') #흑백영상으로 나오게하는거 \n",
        "plt.show()"
      ],
      "execution_count": null,
      "outputs": [
        {
          "output_type": "display_data",
          "data": {
            "image/png": "[encoded data removed]",
            "text/plain": [
              "<Figure size 432x288 with 1 Axes>"
            ]
          },
          "metadata": {
            "tags": [],
            "needs_background": "light"
          }
        }
      ]
    },
    {
      "cell_type": "markdown",
      "metadata": {
        "id": "37znaIf5Z1Gc"
      },
      "source": [
        "OpenCV lib를 이용한 영상 출력\n",
        "(200,200)사이즈로 출력"
      ]
    },
    {
      "cell_type": "code",
      "metadata": {
        "id": "PElGh_mVoL6s",
        "colab": {
          "base_uri": "https://localhost:8080/",
          "height": 245
        },
        "outputId": "fd963c53-73d3-4246-9056-1ca01bc9f635"
      },
      "source": [
        "\n",
        "from google.colab.patches import cv2_imshow\n",
        "cv2_imshow(test_image)\n",
        "cv2_imshow(cv2.resize(test_image,(200,200))) #28*28 사이즈를 200 200 사이즈로 출력\n",
        "\n",
        "cv2.imwrite('test_image.jpg', test_image) #저장 \n",
        "cv_image = cv2.imread('test_image.jpg') # cv와 test_image는 같은 변수값을 같고있다 \n"
      ],
      "execution_count": null,
      "outputs": [
        {
          "output_type": "display_data",
          "data": {
            "image/png": "[encoded data removed]",
            "text/plain": [
              "<PIL.Image.Image image mode=L size=28x28 at 0x7F19C02564A8>"
            ]
          },
          "metadata": {
            "tags": []
          }
        },
        {
          "output_type": "display_data",
          "data": {
            "image/png": "[encoded data removed]",
            "text/plain": [
              "<PIL.Image.Image image mode=L size=200x200 at 0x7F19C02564E0>"
            ]
          },
          "metadata": {
            "tags": []
          }
        }
      ]
    },
    {
      "cell_type": "code",
      "metadata": {
        "id": "YxwR08o9IX2o"
      },
      "source": [
        "plt_image = plt.imread('test_image.jpg')"
      ],
      "execution_count": null,
      "outputs": []
    },
    {
      "cell_type": "markdown",
      "metadata": {
        "id": "9-xfl-08cp7Y"
      },
      "source": [
        "#컬러 영상 처리\n",
        "CIFAR10 사물인식 data 활용\n",
        "Keras.dataset에 저장되어 있는 데이터 읽어 오기"
      ]
    },
    {
      "cell_type": "code",
      "metadata": {
        "id": "gQshVmMz5xNh",
        "colab": {
          "base_uri": "https://localhost:8080/",
          "height": 52
        },
        "outputId": "9be9dc58-6404-403d-e69b-db0571027408"
      },
      "source": [
        "from keras.datasets import cifar10\n",
        "(cx_train, cy_ftrain), (cx_test, cy_test) = cifar10.load_data()"
      ],
      "execution_count": null,
      "outputs": [
        {
          "output_type": "stream",
          "text": [
            "Downloading data from https://www.cs.toronto.edu/~kriz/cifar-10-python.tar.gz\n",
            "170500096/170498071 [==============================] - 11s 0us/step\n"
          ],
          "name": "stdout"
        }
      ]
    },
    {
      "cell_type": "code",
      "metadata": {
        "id": "W7qHdTAYdwnH",
        "colab": {
          "base_uri": "https://localhost:8080/",
          "height": 51
        },
        "outputId": "169fb1b4-1861-4017-9927-23482b88dd34"
      },
      "source": [
        "print('Number of original cifar training examples:', len(cx_train))\n",
        "print('Number of original cifar test examples:', len(cx_test))"
      ],
      "execution_count": null,
      "outputs": [
        {
          "output_type": "stream",
          "text": [
            "Number of original cifar training examples: 50000\n",
            "Number of original cifar test examples: 10000\n"
          ],
          "name": "stdout"
        }
      ]
    },
    {
      "cell_type": "code",
      "metadata": {
        "id": "lB9I5lpReosb",
        "colab": {
          "base_uri": "https://localhost:8080/",
          "height": 887
        },
        "outputId": "bd124c3b-d9e4-4cf2-9958-0d037a53ac79"
      },
      "source": [
        "print(cx_train[40])\n",
        "cx_train[40].shape\n",
        "height, width, channel = cx_train[40].shape"
      ],
      "execution_count": null,
      "outputs": [
        {
          "output_type": "stream",
          "text": [
            "[[[101 114  35]\n",
            "  [ 94 116  48]\n",
            "  [ 98 112  42]\n",
            "  ...\n",
            "  [121 119  58]\n",
            "  [127 130  66]\n",
            "  [143 136  90]]\n",
            "\n",
            " [[120 122  64]\n",
            "  [131 132  98]\n",
            "  [124 119  74]\n",
            "  ...\n",
            "  [115 116  53]\n",
            "  [121 126  63]\n",
            "  [144 141  77]]\n",
            "\n",
            " [[120 126  50]\n",
            "  [139 140  82]\n",
            "  [140 139  82]\n",
            "  ...\n",
            "  [105  97  56]\n",
            "  [107 103  61]\n",
            "  [121 121  65]]\n",
            "\n",
            " ...\n",
            "\n",
            " [[ 48  45  40]\n",
            "  [ 31  31  24]\n",
            "  [ 37  37  27]\n",
            "  ...\n",
            "  [188 157 103]\n",
            "  [159 130  93]\n",
            "  [125 106  60]]\n",
            "\n",
            " [[ 52  46  41]\n",
            "  [ 42  40  32]\n",
            "  [ 44  45  32]\n",
            "  ...\n",
            "  [173 135 102]\n",
            "  [165 136  99]\n",
            "  [150 132  92]]\n",
            "\n",
            " [[ 41  42  32]\n",
            "  [ 38  38  33]\n",
            "  [ 42  41  33]\n",
            "  ...\n",
            "  [164 130  98]\n",
            "  [145 120  79]\n",
            "  [155 134  91]]]\n"
          ],
          "name": "stdout"
        }
      ]
    },
    {
      "cell_type": "code",
      "metadata": {
        "id": "gkgSAMgHg2fc",
        "colab": {
          "base_uri": "https://localhost:8080/",
          "height": 301
        },
        "outputId": "2e3fdda7-0573-40ee-bad0-85e7bb72196b"
      },
      "source": [
        "print(height, width, channel)\n",
        "plt.imshow(cx_train[40])"
      ],
      "execution_count": null,
      "outputs": [
        {
          "output_type": "stream",
          "text": [
            "32 32 3\n"
          ],
          "name": "stdout"
        },
        {
          "output_type": "execute_result",
          "data": {
            "text/plain": [
              "<matplotlib.image.AxesImage at 0x7febc0419cc0>"
            ]
          },
          "metadata": {
            "tags": []
          },
          "execution_count": 9
        },
        {
          "output_type": "display_data",
          "data": {
            "image/png": "[encoded data removed]",
            "text/plain": [
              "<Figure size 432x288 with 1 Axes>"
            ]
          },
          "metadata": {
            "tags": [],
            "needs_background": "light"
          }
        }
      ]
    },
    {
      "cell_type": "code",
      "metadata": {
        "id": "5e4zazjaexRk",
        "colab": {
          "base_uri": "https://localhost:8080/",
          "height": 265
        },
        "outputId": "59e92311-ba45-4154-d5c9-5954f2622498"
      },
      "source": [
        "R_channel = cx_train[40][:, :, 0]\n",
        "G_channel = cx_train[40][:, :, 1]\n",
        "B_channel = cx_train[40][:, :, 2]\n",
        "\n",
        "plt.imshow(G_channel, cmap='gray')\n",
        "plt.show()\n"
      ],
      "execution_count": null,
      "outputs": [
        {
          "output_type": "display_data",
          "data": {
            "image/png": "[encoded data removed]",
            "text/plain": [
              "<Figure size 432x288 with 1 Axes>"
            ]
          },
          "metadata": {
            "tags": [],
            "needs_background": "light"
          }
        }
      ]
    },
    {
      "cell_type": "code",
      "metadata": {
        "id": "wfZwZbvNh6li",
        "colab": {
          "base_uri": "https://localhost:8080/",
          "height": 48
        },
        "outputId": "599aba5b-0cca-4b14-c38a-097da79a830c"
      },
      "source": [
        "from google.colab.patches import cv2_imshow\n",
        "cv2_imshow(cx_train[40])\n",
        "cv2.imwrite('train_40.jpg', cx_train[40])\n",
        "reload_image = cv2.imread('train_40.jpg') #저장된 이미지를 가져오는거\n",
        "plt_colorimage = plt.imread('train_40.jpg') #저장된 이미리지를 matplotlib로 가져오는거 \n"
      ],
      "execution_count": null,
      "outputs": [
        {
          "output_type": "display_data",
          "data": {
            "image/png": "[encoded data removed]",
            "text/plain": [
              "<PIL.Image.Image image mode=RGB size=32x32 at 0x7FEBC140CA58>"
            ]
          },
          "metadata": {
            "tags": []
          }
        }
      ]
    }
  ]
}